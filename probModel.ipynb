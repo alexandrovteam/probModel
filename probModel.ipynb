{
 "cells": [
  {
   "cell_type": "code",
   "execution_count": null,
   "metadata": {
    "collapsed": false
   },
   "outputs": [],
   "source": [
    "import sys\n",
    "import os\n",
    "\n",
    "prob_model_dir = \"/home/lomereiter/github/probModel\"\n",
    "sys.path.append(prob_model_dir)\n",
    "sys.path.append(os.path.dirname(prob_model_dir))\n",
    "os.chdir(prob_model_dir)\n",
    "\n",
    "%load_ext autoreload\n",
    "%autoreload\n",
    "from probModel.pipeline2 import ProbPipeline\n",
    "import json\n",
    "config = json.loads(open(prob_model_dir + \"/decoy.json\").read())\n",
    "pipeline = ProbPipeline(config)\n",
    "pipeline.initialize()\n",
    "\n",
    "names = ['+'.join([f,a]) for f in pipeline.sum_formulae for a in pipeline.adducts]\n",
    "\n",
    "# read expected coefficients\n",
    "from collections import defaultdict\n",
    "expected = defaultdict(float)\n",
    "total = 0.0\n",
    "for line in open(prob_model_dir + \"/hmdb_sim_list.txt\").readlines()[1:]:\n",
    "    f, a, m = line.split()\n",
    "    f=f[1:-1]\n",
    "    a=a[1:-1]\n",
    "    expected[f+'+'+a] = float(m)\n",
    "    total += float(m)"
   ]
  },
  {
   "cell_type": "code",
   "execution_count": null,
   "metadata": {
    "collapsed": false
   },
   "outputs": [],
   "source": [
    "%autoreload\n",
    "# if rho is not provided, it's computed conservatively to ensure convergence, but the convergence is very slow\n",
    "# too low value for rho can lead to funny pictures having nothing to do with reality\n",
    "solver = pipeline.get_solver(theta=0.5, lambda_=1.0, rho=5.0)\n"
   ]
  },
  {
   "cell_type": "code",
   "execution_count": null,
   "metadata": {
    "collapsed": false
   },
   "outputs": [],
   "source": [
    "%autoreload\n",
    "%matplotlib inline\n",
    "\n",
    "import numpy as np\n",
    "import matplotlib.pyplot as plt\n",
    "\n",
    "from IPython import display\n",
    "for i in range(1000):\n",
    "    solver.run_single_iteration(safe_step_size=False)\n",
    "    # solver.run_single_iteration(safe_step_size=True)\n",
    "    # run_single_iteration has a parameter safe_step_size which enables line search to ensure convergence \n",
    "    # (there is no scientific proof that it works, but practice suggests that it does)\n",
    "    # with this param set to true we get convergence for any value of rho, but it requires ~2x more computations\n",
    "    if i > 0 and i % 5 == 0:\n",
    "        #plt.subplot(211)\n",
    "        plt.imshow(solver.get_image(solver.w_hat, 0))\n",
    "        data = []\n",
    "        wrong = 0.0\n",
    "        abundancies = solver.w_hat.sum(axis=1)\n",
    "        for f, a in zip(names, abundancies/abundancies.sum() * total):\n",
    "            if expected[f] > 0:\n",
    "                data.append((a, expected[f]))\n",
    "            elif a > 0:\n",
    "                wrong += a\n",
    "        xs = [y for x, y in data]\n",
    "        ys = [x for x, y in data]\n",
    "        #plt.subplot(212)\n",
    "        #plt.scatter(xs, ys)\n",
    "        # correlation coefficient between true and estimated coefficients\n",
    "     \n",
    "        display.clear_output(wait=True)\n",
    "        display.display(plt.gcf())\n",
    "        print \"correlation of coefficients:\", np.corrcoef(xs, ys)[0,1]\n",
    "        print \"proportion of wrongly assigned abundancies:\", wrong/total # the percentage of molecule abundancies assigned to non-existent molecules\n",
    "        print \"total noise intensity:\", solver.w_hat[-1,:].sum()\n",
    "        print \"iterations performed:\", i\n",
    "        #print np.linalg.norm(solver.G.T.dot(solver.w_hat.T)) / np.linalg.norm(solver.w_hat)\n",
    "        print solver.LL(solver.w_hat)"
   ]
  }
 ],
 "metadata": {
  "kernelspec": {
   "display_name": "Python 2",
   "language": "python",
   "name": "python2"
  },
  "language_info": {
   "codemirror_mode": {
    "name": "ipython",
    "version": 2
   },
   "file_extension": ".py",
   "mimetype": "text/x-python",
   "name": "python",
   "nbconvert_exporter": "python",
   "pygments_lexer": "ipython2",
   "version": "2.7.6"
  }
 },
 "nbformat": 4,
 "nbformat_minor": 0
}
