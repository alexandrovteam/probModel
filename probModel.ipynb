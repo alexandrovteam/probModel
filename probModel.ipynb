{
 "cells": [
  {
   "cell_type": "code",
   "execution_count": null,
   "metadata": {
    "collapsed": false
   },
   "outputs": [],
   "source": [
    "import sys\n",
    "import os\n",
    "\n",
    "# set working directory to the code location\n",
    "%cd ~/github/probModel\n",
    "\n",
    "%load_ext autoreload\n",
    "%autoreload\n",
    "from solver import ProbPipeline\n",
    "import json\n",
    "config = json.loads(open(\"decoy.json\").read())\n",
    "pipeline = ProbPipeline(config)\n",
    "pipeline.initialize()"
   ]
  },
  {
   "cell_type": "code",
   "execution_count": null,
   "metadata": {
    "collapsed": false
   },
   "outputs": [],
   "source": [
    "%autoreload\n",
    "\n",
    "solver = pipeline.get_solver(theta=10.0, lambda_=0)\n",
    "solver.s = 1e-3\n",
    "solver.t = 1e2\n",
    "# s * t should be less than ~0.1 (more precisely, 1.0 / (operator norm of [D; \\grad]) ** 2)"
   ]
  },
  {
   "cell_type": "code",
   "execution_count": null,
   "metadata": {
    "collapsed": false,
    "scrolled": false
   },
   "outputs": [],
   "source": [
    "%autoreload\n",
    "%matplotlib inline\n",
    "\n",
    "import numpy as np\n",
    "import matplotlib.pyplot as plt\n",
    "import IPython\n",
    "ip = IPython.get_ipython()\n",
    "\n",
    "from solver import TVSolver\n",
    "\n",
    "from IPython import display\n",
    "plt.figure(figsize=(10,15))\n",
    "\n",
    "def loop():\n",
    "    global solver\n",
    "    for i in range(500):\n",
    "        p, d = solver.run_single_iteration(i % 4 == 0)\n",
    "\n",
    "        if i > 0 and i % 4 == 0:\n",
    "            maximum = np.percentile(solver.w_hat[0:-1,:], 99)\n",
    "            imgs = range(6) # show first 6 images\n",
    "            for k, j in enumerate(imgs):\n",
    "                plt.subplot(len(imgs)/3+1, 3, k+1)\n",
    "                img = solver.get_image(solver.w_hat, j)\n",
    "                perc = np.percentile(img, 99); img[img > perc] = perc\n",
    "                fig = plt.imshow(img, vmin=0, vmax=maximum);\n",
    "                plt.axis('off')\n",
    "\n",
    "            # allows to look at animated pictures, watching intermediate results in real time\n",
    "            display.clear_output(wait=True)\n",
    "            display.display(plt.gcf())\n",
    "        \n",
    "            print i, solver.LL(solver.w_hat), p, d, solver.total_variation(solver.w_hat), solver.w_hat.sum()\n",
    "            \n",
    "loop()"
   ]
  }
 ],
 "metadata": {
  "kernelspec": {
   "display_name": "Python 2",
   "language": "python",
   "name": "python2"
  },
  "language_info": {
   "codemirror_mode": {
    "name": "ipython",
    "version": 2
   },
   "file_extension": ".py",
   "mimetype": "text/x-python",
   "name": "python",
   "nbconvert_exporter": "python",
   "pygments_lexer": "ipython2",
   "version": "2.7.6"
  }
 },
 "nbformat": 4,
 "nbformat_minor": 0
}
